{
 "cells": [
  {
   "cell_type": "code",
   "execution_count": 2,
   "metadata": {},
   "outputs": [
    {
     "name": "stderr",
     "output_type": "stream",
     "text": [
      "C:\\ProgramData\\Anaconda3\\envs\\fortest\\lib\\site-packages\\h5py\\__init__.py:36: FutureWarning: Conversion of the second argument of issubdtype from `float` to `np.floating` is deprecated. In future, it will be treated as `np.float64 == np.dtype(float).type`.\n",
      "  from ._conv import register_converters as _register_converters\n",
      "Using TensorFlow backend.\n"
     ]
    }
   ],
   "source": [
    "import csv\n",
    "import cv2\n",
    "import numpy as np\n",
    "from keras.models import Sequential\n",
    "from keras.layers import Flatten, Dense, Lambda, Cropping2D, Activation, Dropout, MaxPooling2D\n",
    "from keras.layers.convolutional import Convolution2D   \n",
    "from sklearn.model_selection import train_test_split\n",
    "import matplotlib.pyplot as plt\n"
   ]
  },
  {
   "cell_type": "code",
   "execution_count": 3,
   "metadata": {},
   "outputs": [],
   "source": [
    "def convert_hsv(img):\n",
    "    return cv2.cvtColor(img, cv2.COLOR_RGB2HSV)"
   ]
  },
  {
   "cell_type": "code",
   "execution_count": 4,
   "metadata": {},
   "outputs": [],
   "source": [
    "# Only the S channel has been considered for resizing.\n",
    "# The original shape of image is (160x320) and it will be resized to (16x32) \n",
    "def resize(img):\n",
    "    return cv2.resize(img[:,:,1],(32,16))"
   ]
  },
  {
   "cell_type": "code",
   "execution_count": 5,
   "metadata": {},
   "outputs": [],
   "source": [
    "lines1 = []\n",
    "with open('./img/round1/driving_log.csv') as csvfile:\n",
    "    reader = csv.reader(csvfile)\n",
    "    for line in reader:\n",
    "        lines1.append(line)\n"
   ]
  },
  {
   "cell_type": "code",
   "execution_count": 6,
   "metadata": {},
   "outputs": [],
   "source": [
    "lines2 = []\n",
    "with open('./img/round2/driving_log.csv') as csvfile:\n",
    "    reader = csv.reader(csvfile)\n",
    "    for line in reader:\n",
    "        lines2.append(line)"
   ]
  },
  {
   "cell_type": "code",
   "execution_count": 7,
   "metadata": {},
   "outputs": [],
   "source": [
    "images = []\n",
    "measurements = []"
   ]
  },
  {
   "cell_type": "markdown",
   "metadata": {},
   "source": [
    "I extract four values from each row/line of csv file – name of center, left and right image and steering value. Since the left and right images need adjustment I have summed 0.2 to steering value or subtracted 0.2 from the steering value."
   ]
  },
  {
   "cell_type": "code",
   "execution_count": 8,
   "metadata": {},
   "outputs": [
    {
     "name": "stdout",
     "output_type": "stream",
     "text": [
      "./img/round1/IMG/right_2016_12_01_13_46_38_947.jpg\n"
     ]
    }
   ],
   "source": [
    "\n",
    "for line in lines1:\n",
    "    for i in range(3):\n",
    "        source_path = line[i]\n",
    "        filename = source_path.split('\\\\')[-1]\n",
    "        current_path = './img/round1/' + filename.strip()\n",
    "        \n",
    "        image = plt.imread(current_path)\n",
    "        images.append(resize(convert_hsv(image)))\n",
    "        if i == 0 :\n",
    "            measurement = float(line[3])\n",
    "        elif i==1 :\n",
    "            measurement = float(line[3]) + 0.2\n",
    "        elif i== 2:\n",
    "            measurement = float(line[3]) - 0.2\n",
    "        \n",
    "        measurements.append(measurement)\n",
    "print(current_path)  "
   ]
  },
  {
   "cell_type": "code",
   "execution_count": 9,
   "metadata": {},
   "outputs": [
    {
     "name": "stdout",
     "output_type": "stream",
     "text": [
      "./img/round2/IMG/right_2018_05_27_10_32_45_141.jpg\n"
     ]
    }
   ],
   "source": [
    "\n",
    "for line in lines2:\n",
    "    for i in range(3):\n",
    "        source_path = line[i]\n",
    "        filename = source_path.split('\\\\')[-1]\n",
    "        current_path = './img/round2/IMG/' + filename.strip()\n",
    "        \n",
    "        image = plt.imread(current_path)\n",
    "        images.append(resize(convert_hsv(image)))\n",
    "        if i == 0 :\n",
    "            measurement = float(line[3])\n",
    "        elif i==1 :\n",
    "            measurement = float(line[3]) + 0.2\n",
    "        elif i== 2:\n",
    "            measurement = float(line[3]) - 0.2\n",
    "        measurements.append(measurement)\n",
    "print(current_path)"
   ]
  },
  {
   "cell_type": "code",
   "execution_count": 10,
   "metadata": {},
   "outputs": [],
   "source": [
    "X_train = np.array(images)\n",
    "X_train = X_train.reshape(X_train.shape[0], 16, 32,1)\n",
    "Y_train = np.array(measurements)\n"
   ]
  },
  {
   "cell_type": "code",
   "execution_count": 11,
   "metadata": {},
   "outputs": [],
   "source": [
    "\n",
    "X_train, X_test , Y_train, Y_test = train_test_split(X_train, Y_train, test_size=0.2, random_state=0)"
   ]
  },
  {
   "cell_type": "markdown",
   "metadata": {},
   "source": [
    "The layers of model are explained in one of the next sections in detail. The model consists of the following layers.\n",
    "*\tInput layer with normalizing\n",
    "*\tConvolutional layer\n",
    "*\tNonlinear layer\n",
    "*\tFully connected layer\n",
    "*\tMaxpooling\n",
    "*\tDropout\n",
    "\n",
    "I have experimented the dropout in different position of the model to test them in different position of code.\n",
    "The Maxpooling layer with convolutional layer and Dropout with fully connected layer had the better result to prevent overfittting.\n"
   ]
  },
  {
   "cell_type": "code",
   "execution_count": 27,
   "metadata": {},
   "outputs": [
    {
     "name": "stdout",
     "output_type": "stream",
     "text": [
      "Train on 19677 samples, validate on 4920 samples\n",
      "Epoch 1/5\n",
      "19677/19677 [==============================] - 2s 109us/step - loss: 0.0268 - val_loss: 0.0195\n",
      "Epoch 2/5\n",
      "19677/19677 [==============================] - 2s 94us/step - loss: 0.0194 - val_loss: 0.0187\n",
      "Epoch 3/5\n",
      "19677/19677 [==============================] - 2s 98us/step - loss: 0.0184 - val_loss: 0.0182\n",
      "Epoch 4/5\n",
      "19677/19677 [==============================] - 2s 96us/step - loss: 0.0180 - val_loss: 0.0185\n",
      "Epoch 5/5\n",
      "19677/19677 [==============================] - 2s 99us/step - loss: 0.0177 - val_loss: 0.0176\n",
      "_________________________________________________________________\n",
      "Layer (type)                 Output Shape              Param #   \n",
      "=================================================================\n",
      "lambda_3 (Lambda)            (None, 16, 32, 1)         0         \n",
      "_________________________________________________________________\n",
      "conv2d_5 (Conv2D)            (None, 14, 30, 8)         80        \n",
      "_________________________________________________________________\n",
      "activation_7 (Activation)    (None, 14, 30, 8)         0         \n",
      "_________________________________________________________________\n",
      "max_pooling2d_5 (MaxPooling2 (None, 7, 15, 8)          0         \n",
      "_________________________________________________________________\n",
      "conv2d_6 (Conv2D)            (None, 5, 13, 8)          584       \n",
      "_________________________________________________________________\n",
      "activation_8 (Activation)    (None, 5, 13, 8)          0         \n",
      "_________________________________________________________________\n",
      "max_pooling2d_6 (MaxPooling2 (None, 2, 6, 8)           0         \n",
      "_________________________________________________________________\n",
      "dropout_3 (Dropout)          (None, 2, 6, 8)           0         \n",
      "_________________________________________________________________\n",
      "flatten_3 (Flatten)          (None, 96)                0         \n",
      "_________________________________________________________________\n",
      "dense_5 (Dense)              (None, 50)                4850      \n",
      "_________________________________________________________________\n",
      "activation_9 (Activation)    (None, 50)                0         \n",
      "_________________________________________________________________\n",
      "dense_6 (Dense)              (None, 1)                 51        \n",
      "=================================================================\n",
      "Total params: 5,565\n",
      "Trainable params: 5,565\n",
      "Non-trainable params: 0\n",
      "_________________________________________________________________\n"
     ]
    }
   ],
   "source": [
    "# SOLUTION 1\n",
    "\n",
    "model = Sequential()\n",
    "'''\n",
    "The input image to deep neural network model has the shape (16 x 32 x 1) \n",
    "as explained before because of memory efficiency I have resized the images.\n",
    "'''\n",
    "model.add(Lambda(lambda x: x/127.5 - 1.,input_shape=(16,32,1)))\n",
    "\n",
    "# The first convolutional layer with 3x3 kernel and 8 output filters.\n",
    "model.add(Convolution2D(8, (3, 3), kernel_initializer='normal',padding='valid'))\n",
    "\n",
    "# Nonlinearity in the model.         \n",
    "model.add(Activation('relu'))\n",
    "\n",
    "# Prevent overfitting\n",
    "model.add(MaxPooling2D((2,2),padding='valid'))\n",
    "\n",
    "# The second convolutional layer with 3x3 kernel and 8 output filters.\n",
    "model.add(Convolution2D(8, (3, 3) ,kernel_initializer='normal',padding='valid'))\n",
    "\n",
    "# Nonlinearity in the model.         \n",
    "model.add(Activation('relu'))\n",
    "\n",
    "# Prevent overfitting\n",
    "model.add(MaxPooling2D((2,2),padding='valid'))\n",
    "\n",
    "# Prevent overfitting\n",
    "model.add(Dropout(0.2))\n",
    "\n",
    "model.add(Flatten())\n",
    "\n",
    "# The Fully connected layer\n",
    "model.add(Dense(50))\n",
    "\n",
    "# Nonlinearity in the model.         \n",
    "model.add(Activation('relu'))\n",
    "\n",
    "# The Fully connected layer\n",
    "model.add(Dense(1))\n",
    "\n",
    "# I have used the Adam optimizer as input parameter of compile function.\n",
    "# Adam optimizer default values -> lr=0.001, beta_1=0.9, beta_2=0.999, epsilon=None, decay=0.0, amsgrad=False\n",
    "model.compile(loss='mse', optimizer='adam')\n",
    "history_object = model.fit(X_train, Y_train, validation_split = 0.2,shuffle = True, epochs = 5 , verbose=1 , batch_size=128 ,validation_data=(X_test, Y_test))\n",
    "\n",
    "model.save('model.h5')\n",
    "\n",
    "model.summary()\n"
   ]
  },
  {
   "cell_type": "code",
   "execution_count": 14,
   "metadata": {},
   "outputs": [
    {
     "data": {
      "image/png": "[encoded data removed]",
      "text/plain": [
       "<Figure size 432x288 with 1 Axes>"
      ]
     },
     "metadata": {},
     "output_type": "display_data"
    }
   ],
   "source": [
    "### plot the training and validation loss for each epoch\n",
    "plt.plot(history_object.history['loss'])\n",
    "plt.plot(history_object.history['val_loss'])\n",
    "plt.title('model mean squared error loss')\n",
    "plt.ylabel('mean squared error loss')\n",
    "plt.xlabel('epoch')\n",
    "plt.legend(['training set', 'validation set'], loc='upper right')\n",
    "plt.show()"
   ]
  },
  {
   "cell_type": "code",
   "execution_count": 26,
   "metadata": {},
   "outputs": [
    {
     "name": "stdout",
     "output_type": "stream",
     "text": [
      "4920/4920 [==============================] - 0s 64us/step\n",
      "Test loss: 0.018054016005641563\n"
     ]
    }
   ],
   "source": [
    "score = model.evaluate(X_test, Y_test, verbose=1 )\n",
    "print('Test loss: {}'.format(score) )\n"
   ]
  },
  {
   "cell_type": "code",
   "execution_count": null,
   "metadata": {},
   "outputs": [],
   "source": []
  }
 ],
 "metadata": {
  "kernelspec": {
   "display_name": "Python 3",
   "language": "python",
   "name": "python3"
  },
  "language_info": {
   "codemirror_mode": {
    "name": "ipython",
    "version": 3
   },
   "file_extension": ".py",
   "mimetype": "text/x-python",
   "name": "python",
   "nbconvert_exporter": "python",
   "pygments_lexer": "ipython3",
   "version": "3.6.5"
  },
  "widgets": {
   "state": {},
   "version": "1.1.2"
  }
 },
 "nbformat": 4,
 "nbformat_minor": 2
}
